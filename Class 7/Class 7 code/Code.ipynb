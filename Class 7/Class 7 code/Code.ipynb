{
  "nbformat": 4,
  "nbformat_minor": 0,
  "metadata": {
    "colab": {
      "provenance": []
    },
    "kernelspec": {
      "name": "python3",
      "display_name": "Python 3"
    },
    "language_info": {
      "name": "python"
    }
  },
  "cells": [
    {
      "cell_type": "markdown",
      "source": [
        "1 - Higher Order Functions\n",
        "\n",
        "2 - lambda Functions\n",
        "\n",
        "3-  List Comprehensions"
      ],
      "metadata": {
        "id": "PIakZxHDbeQj"
      }
    },
    {
      "cell_type": "markdown",
      "source": [],
      "metadata": {
        "id": "L2gxAtegS-e9"
      }
    },
    {
      "cell_type": "code",
      "execution_count": null,
      "metadata": {
        "colab": {
          "base_uri": "https://localhost:8080/"
        },
        "id": "yNbJbYhyaq4n",
        "outputId": "9bd301fb-751a-41ff-a95a-9d44be85207f"
      },
      "outputs": [
        {
          "output_type": "stream",
          "name": "stdout",
          "text": [
            "call back funciton\n"
          ]
        }
      ],
      "source": [
        "# def higher_order_func(callback):\n",
        "#     callback()\n",
        "\n",
        "# def callback():\n",
        "#   print(\"call back funciton\")\n",
        "\n",
        "# higher_order_func(callback)\n"
      ]
    },
    {
      "cell_type": "code",
      "source": [
        "numbers = [1,2,3,4,5]\n",
        "sqr_list = []\n",
        "def sqr(x):\n",
        "  return x * x\n",
        "for num in numbers:\n",
        "  sqr_num = sqr(num)\n",
        "  sqr_list.append(sqr_num)\n",
        "\n",
        "print(\"sqr_list>>>\",sqr_list)\n",
        "\n"
      ],
      "metadata": {
        "colab": {
          "base_uri": "https://localhost:8080/"
        },
        "id": "X3rfENgxdJkH",
        "outputId": "5a25691d-0648-4937-e297-20767d4a36fc"
      },
      "execution_count": null,
      "outputs": [
        {
          "output_type": "stream",
          "name": "stdout",
          "text": [
            "sqr_list>>> [1, 4, 9, 16, 25]\n"
          ]
        }
      ]
    },
    {
      "cell_type": "code",
      "source": [
        "numbers = [1,2,3,4,5] # list -> iterable\n",
        "def sqr(x):\n",
        "  return x * x\n",
        "sqr_list = list(map(sqr,numbers))\n",
        "print(\"sqr_list>>>\",sqr_list)"
      ],
      "metadata": {
        "colab": {
          "base_uri": "https://localhost:8080/"
        },
        "id": "kDEQchsqeUmD",
        "outputId": "1a5cab32-a38e-46ea-8847-439135334b95"
      },
      "execution_count": null,
      "outputs": [
        {
          "output_type": "stream",
          "name": "stdout",
          "text": [
            "sqr_list>>> [1, 4, 9, 16, 25]\n"
          ]
        }
      ]
    },
    {
      "cell_type": "code",
      "source": [
        "numbers = [1,2,3,4,5] # list -> iterable\n",
        "def filter_condition(x):\n",
        "  return x > 3\n",
        "filter_list = list(filter(filter_condition,numbers))\n",
        "print(\"filter_list>>>\",filter_list)"
      ],
      "metadata": {
        "colab": {
          "base_uri": "https://localhost:8080/"
        },
        "id": "yyr-7VYcgP5M",
        "outputId": "ad9093fb-ad51-434d-c70b-ff877b2b2459"
      },
      "execution_count": null,
      "outputs": [
        {
          "output_type": "stream",
          "name": "stdout",
          "text": [
            "filter_list>>> [4, 5]\n"
          ]
        }
      ]
    },
    {
      "cell_type": "code",
      "source": [
        "numbers = [1,2,3,4,5] # list -> iterable\n",
        "def filter_condition(x):\n",
        "  # return  1 > 3 -> False\n",
        "  return x > 3\n",
        "filter_list = list(map(lambda x: x > 3,numbers))\n",
        "print(\"filter_list>>>\",filter_list)"
      ],
      "metadata": {
        "colab": {
          "base_uri": "https://localhost:8080/"
        },
        "id": "H5IT3k6PiExf",
        "outputId": "8f2a2e92-6095-49a8-ad5a-19d786e21023"
      },
      "execution_count": null,
      "outputs": [
        {
          "output_type": "stream",
          "name": "stdout",
          "text": [
            "filter_list>>> [False, False, False, True, True]\n"
          ]
        }
      ]
    },
    {
      "cell_type": "code",
      "source": [
        "# def add(x, y):\n",
        "\n",
        "#   return x + y\n",
        "# result = add(1,2)\n",
        "\n",
        "# print(\"result>>>\",result)\n",
        "# def funciton_name(parameters):\n",
        "#   expression / statement\n",
        "\n",
        "# lambda parameters: expression / statementa\n",
        "add = lambda x, y: x + y\n",
        "print(add(2 , 5))"
      ],
      "metadata": {
        "colab": {
          "base_uri": "https://localhost:8080/"
        },
        "id": "qx6zpP7siiGS",
        "outputId": "6fa853e9-8226-41b8-b2a0-d583f7385158"
      },
      "execution_count": null,
      "outputs": [
        {
          "output_type": "stream",
          "name": "stdout",
          "text": [
            "7\n"
          ]
        }
      ]
    },
    {
      "cell_type": "code",
      "source": [
        "# list comprehension\n",
        "numbers = [1,2,3,4,5]\n",
        "sqr_list = []\n",
        "\n",
        "for num in numbers:\n",
        "  # 1\n",
        "  sqr_num = num * num # sqr_num  = 1 * 1\n",
        "  sqr_list.append(sqr_num) # [] -> [].append(1) -> [1]\n",
        "\n",
        "\n",
        "# for loop cnditons: -> for num in numbers\n",
        "  # output / expression  num * num\n",
        "\n",
        "# sqr_list  = [expression/ output for loop ki condition]\n",
        "sqr_list = [num * num for num in numbers]\n",
        "print(\"sqr_list>>>\",sqr_list)"
      ],
      "metadata": {
        "colab": {
          "base_uri": "https://localhost:8080/"
        },
        "id": "RZj0zd3bkd6E",
        "outputId": "6d9b419f-5509-456e-f8ec-bcbd34850cd0"
      },
      "execution_count": null,
      "outputs": [
        {
          "output_type": "stream",
          "name": "stdout",
          "text": [
            "sqr_list>>> [1, 4, 9, 16, 25]\n"
          ]
        }
      ]
    },
    {
      "cell_type": "code",
      "source": [],
      "metadata": {
        "id": "peKzOg7aqty8"
      },
      "execution_count": null,
      "outputs": []
    }
  ]
}